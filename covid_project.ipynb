{
 "cells": [
  {
   "cell_type": "code",
   "execution_count": 1,
   "metadata": {},
   "outputs": [],
   "source": [
    "from sklearn.feature_selection import SelectKBest, f_classif\n",
    "import pandas as pd\n",
    "from sklearn.neighbors import KNeighborsClassifier\n",
    "from sklearn.model_selection import train_test_split\n",
    "from sklearn.model_selection import cross_val_score\n",
    "from sklearn.preprocessing import StandardScaler\n",
    "from sklearn.metrics import accuracy_score\n",
    "from sklearn import metrics\n",
    "import numpy as np\n",
    "##Tried using these to find the features that are most important\n",
    "from sklearn.feature_selection import SelectKBest\n",
    "from sklearn.feature_selection import chi2\n",
    "\n",
    "# Libraries for the ROC and AUC graph\n",
    "from sklearn.metrics import auc\n",
    "from sklearn.metrics import roc_curve\n",
    "\n",
    "df = pd.read_csv('https://raw.githubusercontent.com/dvdsaz/DataScience/main/input_bcell.csv/input_bcell.csv')"
   ]
  },
  {
   "cell_type": "markdown",
   "metadata": {},
   "source": [
    "# Checking the data and inspecting what our features are."
   ]
  },
  {
   "cell_type": "code",
   "execution_count": 2,
   "metadata": {},
   "outputs": [
    {
     "data": {
      "text/html": [
       "<div>\n",
       "<style scoped>\n",
       "    .dataframe tbody tr th:only-of-type {\n",
       "        vertical-align: middle;\n",
       "    }\n",
       "\n",
       "    .dataframe tbody tr th {\n",
       "        vertical-align: top;\n",
       "    }\n",
       "\n",
       "    .dataframe thead th {\n",
       "        text-align: right;\n",
       "    }\n",
       "</style>\n",
       "<table border=\"1\" class=\"dataframe\">\n",
       "  <thead>\n",
       "    <tr style=\"text-align: right;\">\n",
       "      <th></th>\n",
       "      <th>parent_protein_id</th>\n",
       "      <th>protein_seq</th>\n",
       "      <th>start_position</th>\n",
       "      <th>end_position</th>\n",
       "      <th>peptide_seq</th>\n",
       "      <th>chou_fasman</th>\n",
       "      <th>emini</th>\n",
       "      <th>kolaskar_tongaonkar</th>\n",
       "      <th>parker</th>\n",
       "      <th>isoelectric_point</th>\n",
       "      <th>aromaticity</th>\n",
       "      <th>hydrophobicity</th>\n",
       "      <th>stability</th>\n",
       "      <th>target</th>\n",
       "    </tr>\n",
       "  </thead>\n",
       "  <tbody>\n",
       "    <tr>\n",
       "      <th>0</th>\n",
       "      <td>A2T3T0</td>\n",
       "      <td>MDVLYSLSKTLKDARDKIVEGTLYSNVSDLIQQFNQMIITMNGNEF...</td>\n",
       "      <td>161</td>\n",
       "      <td>165</td>\n",
       "      <td>SASFT</td>\n",
       "      <td>1.016</td>\n",
       "      <td>0.703</td>\n",
       "      <td>1.018</td>\n",
       "      <td>2.220</td>\n",
       "      <td>5.810364</td>\n",
       "      <td>0.103275</td>\n",
       "      <td>-0.143829</td>\n",
       "      <td>40.273300</td>\n",
       "      <td>1</td>\n",
       "    </tr>\n",
       "    <tr>\n",
       "      <th>1</th>\n",
       "      <td>F0V2I4</td>\n",
       "      <td>MTIHKVAINGFGRIGRLLFRNLLSSQGVQVVAVNDVVDIKVLTHLL...</td>\n",
       "      <td>251</td>\n",
       "      <td>255</td>\n",
       "      <td>LCLKI</td>\n",
       "      <td>0.770</td>\n",
       "      <td>0.179</td>\n",
       "      <td>1.199</td>\n",
       "      <td>-3.860</td>\n",
       "      <td>6.210876</td>\n",
       "      <td>0.065476</td>\n",
       "      <td>-0.036905</td>\n",
       "      <td>24.998512</td>\n",
       "      <td>1</td>\n",
       "    </tr>\n",
       "    <tr>\n",
       "      <th>2</th>\n",
       "      <td>O75508</td>\n",
       "      <td>MVATCLQVVGFVTSFVGWIGVIVTTSTNDWVVTCGYTIPTCRKLDE...</td>\n",
       "      <td>145</td>\n",
       "      <td>149</td>\n",
       "      <td>AHRET</td>\n",
       "      <td>0.852</td>\n",
       "      <td>3.427</td>\n",
       "      <td>0.960</td>\n",
       "      <td>4.280</td>\n",
       "      <td>8.223938</td>\n",
       "      <td>0.091787</td>\n",
       "      <td>0.879227</td>\n",
       "      <td>27.863333</td>\n",
       "      <td>1</td>\n",
       "    </tr>\n",
       "    <tr>\n",
       "      <th>3</th>\n",
       "      <td>O84462</td>\n",
       "      <td>MTNSISGYQPTVTTSTSSTTSASGASGSLGASSVSTTANATVTQTA...</td>\n",
       "      <td>152</td>\n",
       "      <td>156</td>\n",
       "      <td>SNYDD</td>\n",
       "      <td>1.410</td>\n",
       "      <td>2.548</td>\n",
       "      <td>0.936</td>\n",
       "      <td>6.320</td>\n",
       "      <td>4.237976</td>\n",
       "      <td>0.044776</td>\n",
       "      <td>-0.521393</td>\n",
       "      <td>30.765373</td>\n",
       "      <td>1</td>\n",
       "    </tr>\n",
       "    <tr>\n",
       "      <th>4</th>\n",
       "      <td>P00918</td>\n",
       "      <td>MSHHWGYGKHNGPEHWHKDFPIAKGERQSPVDIDTHTAKYDPSLKP...</td>\n",
       "      <td>85</td>\n",
       "      <td>89</td>\n",
       "      <td>DGTYR</td>\n",
       "      <td>1.214</td>\n",
       "      <td>1.908</td>\n",
       "      <td>0.937</td>\n",
       "      <td>4.640</td>\n",
       "      <td>6.867493</td>\n",
       "      <td>0.103846</td>\n",
       "      <td>-0.578846</td>\n",
       "      <td>21.684615</td>\n",
       "      <td>1</td>\n",
       "    </tr>\n",
       "    <tr>\n",
       "      <th>...</th>\n",
       "      <td>...</td>\n",
       "      <td>...</td>\n",
       "      <td>...</td>\n",
       "      <td>...</td>\n",
       "      <td>...</td>\n",
       "      <td>...</td>\n",
       "      <td>...</td>\n",
       "      <td>...</td>\n",
       "      <td>...</td>\n",
       "      <td>...</td>\n",
       "      <td>...</td>\n",
       "      <td>...</td>\n",
       "      <td>...</td>\n",
       "      <td>...</td>\n",
       "    </tr>\n",
       "    <tr>\n",
       "      <th>14382</th>\n",
       "      <td>Q91DE1</td>\n",
       "      <td>MDRGTRRIWVSQNQGDTDLDYHKILTAGLTVQQGIVRQKIISVYLV...</td>\n",
       "      <td>177</td>\n",
       "      <td>191</td>\n",
       "      <td>QVHAEQGLIQYPTAW</td>\n",
       "      <td>0.910</td>\n",
       "      <td>0.175</td>\n",
       "      <td>1.054</td>\n",
       "      <td>0.820</td>\n",
       "      <td>4.894836</td>\n",
       "      <td>0.071719</td>\n",
       "      <td>-0.701083</td>\n",
       "      <td>46.875237</td>\n",
       "      <td>0</td>\n",
       "    </tr>\n",
       "    <tr>\n",
       "      <th>14383</th>\n",
       "      <td>Q91DE1</td>\n",
       "      <td>MDRGTRRIWVSQNQGDTDLDYHKILTAGLTVQQGIVRQKIISVYLV...</td>\n",
       "      <td>285</td>\n",
       "      <td>299</td>\n",
       "      <td>SSLAKHGEYAPFARL</td>\n",
       "      <td>0.966</td>\n",
       "      <td>0.216</td>\n",
       "      <td>1.044</td>\n",
       "      <td>1.160</td>\n",
       "      <td>4.894836</td>\n",
       "      <td>0.071719</td>\n",
       "      <td>-0.701083</td>\n",
       "      <td>46.875237</td>\n",
       "      <td>0</td>\n",
       "    </tr>\n",
       "    <tr>\n",
       "      <th>14384</th>\n",
       "      <td>Q91DE1</td>\n",
       "      <td>MDRGTRRIWVSQNQGDTDLDYHKILTAGLTVQQGIVRQKIISVYLV...</td>\n",
       "      <td>189</td>\n",
       "      <td>203</td>\n",
       "      <td>TAWQSVGHMMVIFRL</td>\n",
       "      <td>0.821</td>\n",
       "      <td>0.023</td>\n",
       "      <td>1.044</td>\n",
       "      <td>-1.360</td>\n",
       "      <td>4.894836</td>\n",
       "      <td>0.071719</td>\n",
       "      <td>-0.701083</td>\n",
       "      <td>46.875237</td>\n",
       "      <td>0</td>\n",
       "    </tr>\n",
       "    <tr>\n",
       "      <th>14385</th>\n",
       "      <td>Q9QZS0</td>\n",
       "      <td>MHSKTAPRFLVFLLLTLLLLLAASPVASKGCVCKGKGQCLCAGTKG...</td>\n",
       "      <td>1479</td>\n",
       "      <td>1493</td>\n",
       "      <td>KRAHGQDLGTLGSCL</td>\n",
       "      <td>1.069</td>\n",
       "      <td>0.239</td>\n",
       "      <td>1.037</td>\n",
       "      <td>2.180</td>\n",
       "      <td>9.553040</td>\n",
       "      <td>0.044338</td>\n",
       "      <td>-0.671001</td>\n",
       "      <td>29.494308</td>\n",
       "      <td>0</td>\n",
       "    </tr>\n",
       "    <tr>\n",
       "      <th>14386</th>\n",
       "      <td>Q9QZS0</td>\n",
       "      <td>MHSKTAPRFLVFLLLTLLLLLAASPVASKGCVCKGKGQCLCAGTKG...</td>\n",
       "      <td>1647</td>\n",
       "      <td>1661</td>\n",
       "      <td>STVKAGDLEKIISRC</td>\n",
       "      <td>0.962</td>\n",
       "      <td>0.257</td>\n",
       "      <td>1.045</td>\n",
       "      <td>2.127</td>\n",
       "      <td>9.553040</td>\n",
       "      <td>0.044338</td>\n",
       "      <td>-0.671001</td>\n",
       "      <td>29.494308</td>\n",
       "      <td>1</td>\n",
       "    </tr>\n",
       "  </tbody>\n",
       "</table>\n",
       "<p>14387 rows × 14 columns</p>\n",
       "</div>"
      ],
      "text/plain": [
       "      parent_protein_id                                        protein_seq  \\\n",
       "0                A2T3T0  MDVLYSLSKTLKDARDKIVEGTLYSNVSDLIQQFNQMIITMNGNEF...   \n",
       "1                F0V2I4  MTIHKVAINGFGRIGRLLFRNLLSSQGVQVVAVNDVVDIKVLTHLL...   \n",
       "2                O75508  MVATCLQVVGFVTSFVGWIGVIVTTSTNDWVVTCGYTIPTCRKLDE...   \n",
       "3                O84462  MTNSISGYQPTVTTSTSSTTSASGASGSLGASSVSTTANATVTQTA...   \n",
       "4                P00918  MSHHWGYGKHNGPEHWHKDFPIAKGERQSPVDIDTHTAKYDPSLKP...   \n",
       "...                 ...                                                ...   \n",
       "14382            Q91DE1  MDRGTRRIWVSQNQGDTDLDYHKILTAGLTVQQGIVRQKIISVYLV...   \n",
       "14383            Q91DE1  MDRGTRRIWVSQNQGDTDLDYHKILTAGLTVQQGIVRQKIISVYLV...   \n",
       "14384            Q91DE1  MDRGTRRIWVSQNQGDTDLDYHKILTAGLTVQQGIVRQKIISVYLV...   \n",
       "14385            Q9QZS0  MHSKTAPRFLVFLLLTLLLLLAASPVASKGCVCKGKGQCLCAGTKG...   \n",
       "14386            Q9QZS0  MHSKTAPRFLVFLLLTLLLLLAASPVASKGCVCKGKGQCLCAGTKG...   \n",
       "\n",
       "       start_position  end_position      peptide_seq  chou_fasman  emini  \\\n",
       "0                 161           165            SASFT        1.016  0.703   \n",
       "1                 251           255            LCLKI        0.770  0.179   \n",
       "2                 145           149            AHRET        0.852  3.427   \n",
       "3                 152           156            SNYDD        1.410  2.548   \n",
       "4                  85            89            DGTYR        1.214  1.908   \n",
       "...               ...           ...              ...          ...    ...   \n",
       "14382             177           191  QVHAEQGLIQYPTAW        0.910  0.175   \n",
       "14383             285           299  SSLAKHGEYAPFARL        0.966  0.216   \n",
       "14384             189           203  TAWQSVGHMMVIFRL        0.821  0.023   \n",
       "14385            1479          1493  KRAHGQDLGTLGSCL        1.069  0.239   \n",
       "14386            1647          1661  STVKAGDLEKIISRC        0.962  0.257   \n",
       "\n",
       "       kolaskar_tongaonkar  parker  isoelectric_point  aromaticity  \\\n",
       "0                    1.018   2.220           5.810364     0.103275   \n",
       "1                    1.199  -3.860           6.210876     0.065476   \n",
       "2                    0.960   4.280           8.223938     0.091787   \n",
       "3                    0.936   6.320           4.237976     0.044776   \n",
       "4                    0.937   4.640           6.867493     0.103846   \n",
       "...                    ...     ...                ...          ...   \n",
       "14382                1.054   0.820           4.894836     0.071719   \n",
       "14383                1.044   1.160           4.894836     0.071719   \n",
       "14384                1.044  -1.360           4.894836     0.071719   \n",
       "14385                1.037   2.180           9.553040     0.044338   \n",
       "14386                1.045   2.127           9.553040     0.044338   \n",
       "\n",
       "       hydrophobicity  stability  target  \n",
       "0           -0.143829  40.273300       1  \n",
       "1           -0.036905  24.998512       1  \n",
       "2            0.879227  27.863333       1  \n",
       "3           -0.521393  30.765373       1  \n",
       "4           -0.578846  21.684615       1  \n",
       "...               ...        ...     ...  \n",
       "14382       -0.701083  46.875237       0  \n",
       "14383       -0.701083  46.875237       0  \n",
       "14384       -0.701083  46.875237       0  \n",
       "14385       -0.671001  29.494308       0  \n",
       "14386       -0.671001  29.494308       1  \n",
       "\n",
       "[14387 rows x 14 columns]"
      ]
     },
     "execution_count": 2,
     "metadata": {},
     "output_type": "execute_result"
    }
   ],
   "source": [
    "df[::]"
   ]
  },
  {
   "cell_type": "code",
   "execution_count": 3,
   "metadata": {},
   "outputs": [
    {
     "data": {
      "text/plain": [
       "Index(['parent_protein_id', 'protein_seq', 'start_position', 'end_position',\n",
       "       'peptide_seq', 'chou_fasman', 'emini', 'kolaskar_tongaonkar', 'parker',\n",
       "       'isoelectric_point', 'aromaticity', 'hydrophobicity', 'stability',\n",
       "       'target'],\n",
       "      dtype='object')"
      ]
     },
     "execution_count": 3,
     "metadata": {},
     "output_type": "execute_result"
    }
   ],
   "source": [
    "## df.shape\n",
    "df.columns"
   ]
  },
  {
   "cell_type": "code",
   "execution_count": 4,
   "metadata": {},
   "outputs": [
    {
     "data": {
      "text/html": [
       "<div>\n",
       "<style scoped>\n",
       "    .dataframe tbody tr th:only-of-type {\n",
       "        vertical-align: middle;\n",
       "    }\n",
       "\n",
       "    .dataframe tbody tr th {\n",
       "        vertical-align: top;\n",
       "    }\n",
       "\n",
       "    .dataframe thead th {\n",
       "        text-align: right;\n",
       "    }\n",
       "</style>\n",
       "<table border=\"1\" class=\"dataframe\">\n",
       "  <thead>\n",
       "    <tr style=\"text-align: right;\">\n",
       "      <th></th>\n",
       "      <th>parent_protein_id</th>\n",
       "      <th>protein_seq</th>\n",
       "      <th>start_position</th>\n",
       "      <th>end_position</th>\n",
       "      <th>peptide_seq</th>\n",
       "      <th>chou_fasman</th>\n",
       "      <th>emini</th>\n",
       "      <th>kolaskar_tongaonkar</th>\n",
       "      <th>parker</th>\n",
       "      <th>isoelectric_point</th>\n",
       "      <th>aromaticity</th>\n",
       "      <th>hydrophobicity</th>\n",
       "      <th>stability</th>\n",
       "      <th>target</th>\n",
       "    </tr>\n",
       "  </thead>\n",
       "  <tbody>\n",
       "    <tr>\n",
       "      <th>count</th>\n",
       "      <td>14387</td>\n",
       "      <td>14387</td>\n",
       "      <td>14387.000000</td>\n",
       "      <td>14387.000000</td>\n",
       "      <td>14387</td>\n",
       "      <td>14387.000000</td>\n",
       "      <td>14387.000000</td>\n",
       "      <td>14387.000000</td>\n",
       "      <td>14387.000000</td>\n",
       "      <td>14387.000000</td>\n",
       "      <td>14387.000000</td>\n",
       "      <td>14387.000000</td>\n",
       "      <td>14387.000000</td>\n",
       "      <td>14387.000000</td>\n",
       "    </tr>\n",
       "    <tr>\n",
       "      <th>unique</th>\n",
       "      <td>760</td>\n",
       "      <td>757</td>\n",
       "      <td>NaN</td>\n",
       "      <td>NaN</td>\n",
       "      <td>14362</td>\n",
       "      <td>NaN</td>\n",
       "      <td>NaN</td>\n",
       "      <td>NaN</td>\n",
       "      <td>NaN</td>\n",
       "      <td>NaN</td>\n",
       "      <td>NaN</td>\n",
       "      <td>NaN</td>\n",
       "      <td>NaN</td>\n",
       "      <td>NaN</td>\n",
       "    </tr>\n",
       "    <tr>\n",
       "      <th>top</th>\n",
       "      <td>P10155</td>\n",
       "      <td>MEESVNQMQPLNEKQIANSQDGYVWQVTDMNRLHRFLCFGSEGGTY...</td>\n",
       "      <td>NaN</td>\n",
       "      <td>NaN</td>\n",
       "      <td>ARDVLAVVSK</td>\n",
       "      <td>NaN</td>\n",
       "      <td>NaN</td>\n",
       "      <td>NaN</td>\n",
       "      <td>NaN</td>\n",
       "      <td>NaN</td>\n",
       "      <td>NaN</td>\n",
       "      <td>NaN</td>\n",
       "      <td>NaN</td>\n",
       "      <td>NaN</td>\n",
       "    </tr>\n",
       "    <tr>\n",
       "      <th>freq</th>\n",
       "      <td>560</td>\n",
       "      <td>560</td>\n",
       "      <td>NaN</td>\n",
       "      <td>NaN</td>\n",
       "      <td>3</td>\n",
       "      <td>NaN</td>\n",
       "      <td>NaN</td>\n",
       "      <td>NaN</td>\n",
       "      <td>NaN</td>\n",
       "      <td>NaN</td>\n",
       "      <td>NaN</td>\n",
       "      <td>NaN</td>\n",
       "      <td>NaN</td>\n",
       "      <td>NaN</td>\n",
       "    </tr>\n",
       "    <tr>\n",
       "      <th>mean</th>\n",
       "      <td>NaN</td>\n",
       "      <td>NaN</td>\n",
       "      <td>297.675818</td>\n",
       "      <td>308.085077</td>\n",
       "      <td>NaN</td>\n",
       "      <td>0.994706</td>\n",
       "      <td>1.059788</td>\n",
       "      <td>1.021188</td>\n",
       "      <td>1.767137</td>\n",
       "      <td>7.067472</td>\n",
       "      <td>0.075727</td>\n",
       "      <td>-0.406097</td>\n",
       "      <td>43.703902</td>\n",
       "      <td>0.271217</td>\n",
       "    </tr>\n",
       "    <tr>\n",
       "      <th>std</th>\n",
       "      <td>NaN</td>\n",
       "      <td>NaN</td>\n",
       "      <td>353.741450</td>\n",
       "      <td>353.733297</td>\n",
       "      <td>NaN</td>\n",
       "      <td>0.124772</td>\n",
       "      <td>1.621931</td>\n",
       "      <td>0.053804</td>\n",
       "      <td>1.968985</td>\n",
       "      <td>1.888708</td>\n",
       "      <td>0.025767</td>\n",
       "      <td>0.394618</td>\n",
       "      <td>16.682362</td>\n",
       "      <td>0.444603</td>\n",
       "    </tr>\n",
       "    <tr>\n",
       "      <th>min</th>\n",
       "      <td>NaN</td>\n",
       "      <td>NaN</td>\n",
       "      <td>1.000000</td>\n",
       "      <td>6.000000</td>\n",
       "      <td>NaN</td>\n",
       "      <td>0.534000</td>\n",
       "      <td>0.000000</td>\n",
       "      <td>0.838000</td>\n",
       "      <td>-9.029000</td>\n",
       "      <td>3.686096</td>\n",
       "      <td>0.000000</td>\n",
       "      <td>-1.971171</td>\n",
       "      <td>5.448936</td>\n",
       "      <td>0.000000</td>\n",
       "    </tr>\n",
       "    <tr>\n",
       "      <th>25%</th>\n",
       "      <td>NaN</td>\n",
       "      <td>NaN</td>\n",
       "      <td>84.000000</td>\n",
       "      <td>95.000000</td>\n",
       "      <td>NaN</td>\n",
       "      <td>0.911000</td>\n",
       "      <td>0.248000</td>\n",
       "      <td>0.986000</td>\n",
       "      <td>0.600000</td>\n",
       "      <td>5.621033</td>\n",
       "      <td>0.060606</td>\n",
       "      <td>-0.606215</td>\n",
       "      <td>31.614529</td>\n",
       "      <td>0.000000</td>\n",
       "    </tr>\n",
       "    <tr>\n",
       "      <th>50%</th>\n",
       "      <td>NaN</td>\n",
       "      <td>NaN</td>\n",
       "      <td>191.000000</td>\n",
       "      <td>200.000000</td>\n",
       "      <td>NaN</td>\n",
       "      <td>0.990000</td>\n",
       "      <td>0.556000</td>\n",
       "      <td>1.020000</td>\n",
       "      <td>1.793000</td>\n",
       "      <td>6.499573</td>\n",
       "      <td>0.074534</td>\n",
       "      <td>-0.330540</td>\n",
       "      <td>42.287268</td>\n",
       "      <td>0.000000</td>\n",
       "    </tr>\n",
       "    <tr>\n",
       "      <th>75%</th>\n",
       "      <td>NaN</td>\n",
       "      <td>NaN</td>\n",
       "      <td>382.000000</td>\n",
       "      <td>393.000000</td>\n",
       "      <td>NaN</td>\n",
       "      <td>1.074000</td>\n",
       "      <td>1.209000</td>\n",
       "      <td>1.055000</td>\n",
       "      <td>3.009500</td>\n",
       "      <td>8.676575</td>\n",
       "      <td>0.091312</td>\n",
       "      <td>-0.189591</td>\n",
       "      <td>49.101172</td>\n",
       "      <td>1.000000</td>\n",
       "    </tr>\n",
       "    <tr>\n",
       "      <th>max</th>\n",
       "      <td>NaN</td>\n",
       "      <td>NaN</td>\n",
       "      <td>3079.000000</td>\n",
       "      <td>3086.000000</td>\n",
       "      <td>NaN</td>\n",
       "      <td>1.546000</td>\n",
       "      <td>27.189000</td>\n",
       "      <td>1.255000</td>\n",
       "      <td>9.120000</td>\n",
       "      <td>12.232727</td>\n",
       "      <td>0.182254</td>\n",
       "      <td>1.267089</td>\n",
       "      <td>137.046667</td>\n",
       "      <td>1.000000</td>\n",
       "    </tr>\n",
       "  </tbody>\n",
       "</table>\n",
       "</div>"
      ],
      "text/plain": [
       "       parent_protein_id                                        protein_seq  \\\n",
       "count              14387                                              14387   \n",
       "unique               760                                                757   \n",
       "top               P10155  MEESVNQMQPLNEKQIANSQDGYVWQVTDMNRLHRFLCFGSEGGTY...   \n",
       "freq                 560                                                560   \n",
       "mean                 NaN                                                NaN   \n",
       "std                  NaN                                                NaN   \n",
       "min                  NaN                                                NaN   \n",
       "25%                  NaN                                                NaN   \n",
       "50%                  NaN                                                NaN   \n",
       "75%                  NaN                                                NaN   \n",
       "max                  NaN                                                NaN   \n",
       "\n",
       "        start_position  end_position peptide_seq   chou_fasman         emini  \\\n",
       "count     14387.000000  14387.000000       14387  14387.000000  14387.000000   \n",
       "unique             NaN           NaN       14362           NaN           NaN   \n",
       "top                NaN           NaN  ARDVLAVVSK           NaN           NaN   \n",
       "freq               NaN           NaN           3           NaN           NaN   \n",
       "mean        297.675818    308.085077         NaN      0.994706      1.059788   \n",
       "std         353.741450    353.733297         NaN      0.124772      1.621931   \n",
       "min           1.000000      6.000000         NaN      0.534000      0.000000   \n",
       "25%          84.000000     95.000000         NaN      0.911000      0.248000   \n",
       "50%         191.000000    200.000000         NaN      0.990000      0.556000   \n",
       "75%         382.000000    393.000000         NaN      1.074000      1.209000   \n",
       "max        3079.000000   3086.000000         NaN      1.546000     27.189000   \n",
       "\n",
       "        kolaskar_tongaonkar        parker  isoelectric_point   aromaticity  \\\n",
       "count          14387.000000  14387.000000       14387.000000  14387.000000   \n",
       "unique                  NaN           NaN                NaN           NaN   \n",
       "top                     NaN           NaN                NaN           NaN   \n",
       "freq                    NaN           NaN                NaN           NaN   \n",
       "mean               1.021188      1.767137           7.067472      0.075727   \n",
       "std                0.053804      1.968985           1.888708      0.025767   \n",
       "min                0.838000     -9.029000           3.686096      0.000000   \n",
       "25%                0.986000      0.600000           5.621033      0.060606   \n",
       "50%                1.020000      1.793000           6.499573      0.074534   \n",
       "75%                1.055000      3.009500           8.676575      0.091312   \n",
       "max                1.255000      9.120000          12.232727      0.182254   \n",
       "\n",
       "        hydrophobicity     stability        target  \n",
       "count     14387.000000  14387.000000  14387.000000  \n",
       "unique             NaN           NaN           NaN  \n",
       "top                NaN           NaN           NaN  \n",
       "freq               NaN           NaN           NaN  \n",
       "mean         -0.406097     43.703902      0.271217  \n",
       "std           0.394618     16.682362      0.444603  \n",
       "min          -1.971171      5.448936      0.000000  \n",
       "25%          -0.606215     31.614529      0.000000  \n",
       "50%          -0.330540     42.287268      0.000000  \n",
       "75%          -0.189591     49.101172      1.000000  \n",
       "max           1.267089    137.046667      1.000000  "
      ]
     },
     "execution_count": 4,
     "metadata": {},
     "output_type": "execute_result"
    }
   ],
   "source": [
    "\n",
    "df.describe(include='all')"
   ]
  },
  {
   "cell_type": "markdown",
   "metadata": {},
   "source": [
    "# Checking to see exactly how many parent protein ids there are.\n",
    "\n",
    "### Our main concern is that if we one hot encode  the protien ids we will end up with a lot of features so we need to see exactly how many unique ids there are."
   ]
  },
  {
   "cell_type": "code",
   "execution_count": 5,
   "metadata": {},
   "outputs": [
    {
     "data": {
      "text/plain": [
       "P10155    560\n",
       "P69996    517\n",
       "P05164    506\n",
       "P13423    445\n",
       "P15917    389\n",
       "         ... \n",
       "P21453      1\n",
       "A4IDB2      1\n",
       "G1UB30      1\n",
       "P10415      1\n",
       "Q3YT87      1\n",
       "Name: parent_protein_id, Length: 760, dtype: int64"
      ]
     },
     "execution_count": 5,
     "metadata": {},
     "output_type": "execute_result"
    }
   ],
   "source": [
    "df['parent_protein_id'].value_counts()"
   ]
  },
  {
   "cell_type": "code",
   "execution_count": 6,
   "metadata": {},
   "outputs": [],
   "source": [
    "features = list(df.columns)"
   ]
  },
  {
   "cell_type": "code",
   "execution_count": 7,
   "metadata": {},
   "outputs": [
    {
     "name": "stdout",
     "output_type": "stream",
     "text": [
      "['parent_protein_id', 'protein_seq', 'start_position', 'end_position', 'peptide_seq', 'chou_fasman', 'emini', 'kolaskar_tongaonkar', 'parker', 'isoelectric_point', 'aromaticity', 'hydrophobicity', 'stability', 'target']\n",
      "['parent_protein_id', 'protein_seq', 'start_position', 'end_position', 'peptide_seq', 'chou_fasman', 'emini', 'kolaskar_tongaonkar', 'parker', 'isoelectric_point', 'aromaticity', 'hydrophobicity', 'stability']\n"
     ]
    }
   ],
   "source": [
    "print(features)\n",
    "xfeatures = features[:len(features)-1]\n",
    "print(xfeatures)"
   ]
  },
  {
   "cell_type": "markdown",
   "metadata": {},
   "source": [
    "# Decided to drop the columns 'parent_protein_id' , 'protein_seq', 'peptide_seq'\n",
    "\n",
    "#### As stated before we had to many unique data values to one hot encode so we dropped all the qualitative data values and kept the quantitative values that way we can normalize the numeric values"
   ]
  },
  {
   "cell_type": "code",
   "execution_count": 8,
   "metadata": {},
   "outputs": [
    {
     "data": {
      "text/html": [
       "<div>\n",
       "<style scoped>\n",
       "    .dataframe tbody tr th:only-of-type {\n",
       "        vertical-align: middle;\n",
       "    }\n",
       "\n",
       "    .dataframe tbody tr th {\n",
       "        vertical-align: top;\n",
       "    }\n",
       "\n",
       "    .dataframe thead th {\n",
       "        text-align: right;\n",
       "    }\n",
       "</style>\n",
       "<table border=\"1\" class=\"dataframe\">\n",
       "  <thead>\n",
       "    <tr style=\"text-align: right;\">\n",
       "      <th></th>\n",
       "      <th>start_position</th>\n",
       "      <th>end_position</th>\n",
       "      <th>chou_fasman</th>\n",
       "      <th>emini</th>\n",
       "      <th>kolaskar_tongaonkar</th>\n",
       "      <th>parker</th>\n",
       "      <th>isoelectric_point</th>\n",
       "      <th>aromaticity</th>\n",
       "      <th>hydrophobicity</th>\n",
       "      <th>stability</th>\n",
       "    </tr>\n",
       "  </thead>\n",
       "  <tbody>\n",
       "    <tr>\n",
       "      <th>0</th>\n",
       "      <td>0.051982</td>\n",
       "      <td>0.051623</td>\n",
       "      <td>0.476285</td>\n",
       "      <td>0.025856</td>\n",
       "      <td>0.431655</td>\n",
       "      <td>0.619814</td>\n",
       "      <td>0.248550</td>\n",
       "      <td>0.566651</td>\n",
       "      <td>0.564298</td>\n",
       "      <td>0.264627</td>\n",
       "    </tr>\n",
       "    <tr>\n",
       "      <th>1</th>\n",
       "      <td>0.081222</td>\n",
       "      <td>0.080844</td>\n",
       "      <td>0.233202</td>\n",
       "      <td>0.006584</td>\n",
       "      <td>0.865707</td>\n",
       "      <td>0.284809</td>\n",
       "      <td>0.295412</td>\n",
       "      <td>0.359258</td>\n",
       "      <td>0.597317</td>\n",
       "      <td>0.148556</td>\n",
       "    </tr>\n",
       "    <tr>\n",
       "      <th>2</th>\n",
       "      <td>0.046784</td>\n",
       "      <td>0.046429</td>\n",
       "      <td>0.314229</td>\n",
       "      <td>0.126044</td>\n",
       "      <td>0.292566</td>\n",
       "      <td>0.733319</td>\n",
       "      <td>0.530951</td>\n",
       "      <td>0.503623</td>\n",
       "      <td>0.880225</td>\n",
       "      <td>0.170325</td>\n",
       "    </tr>\n",
       "    <tr>\n",
       "      <th>3</th>\n",
       "      <td>0.049058</td>\n",
       "      <td>0.048701</td>\n",
       "      <td>0.865613</td>\n",
       "      <td>0.093714</td>\n",
       "      <td>0.235012</td>\n",
       "      <td>0.845722</td>\n",
       "      <td>0.064573</td>\n",
       "      <td>0.245679</td>\n",
       "      <td>0.447703</td>\n",
       "      <td>0.192377</td>\n",
       "    </tr>\n",
       "    <tr>\n",
       "      <th>4</th>\n",
       "      <td>0.027290</td>\n",
       "      <td>0.026948</td>\n",
       "      <td>0.671937</td>\n",
       "      <td>0.070175</td>\n",
       "      <td>0.237410</td>\n",
       "      <td>0.753154</td>\n",
       "      <td>0.372240</td>\n",
       "      <td>0.569787</td>\n",
       "      <td>0.429961</td>\n",
       "      <td>0.123374</td>\n",
       "    </tr>\n",
       "  </tbody>\n",
       "</table>\n",
       "</div>"
      ],
      "text/plain": [
       "   start_position  end_position  chou_fasman     emini  kolaskar_tongaonkar  \\\n",
       "0        0.051982      0.051623     0.476285  0.025856             0.431655   \n",
       "1        0.081222      0.080844     0.233202  0.006584             0.865707   \n",
       "2        0.046784      0.046429     0.314229  0.126044             0.292566   \n",
       "3        0.049058      0.048701     0.865613  0.093714             0.235012   \n",
       "4        0.027290      0.026948     0.671937  0.070175             0.237410   \n",
       "\n",
       "     parker  isoelectric_point  aromaticity  hydrophobicity  stability  \n",
       "0  0.619814           0.248550     0.566651        0.564298   0.264627  \n",
       "1  0.284809           0.295412     0.359258        0.597317   0.148556  \n",
       "2  0.733319           0.530951     0.503623        0.880225   0.170325  \n",
       "3  0.845722           0.064573     0.245679        0.447703   0.192377  \n",
       "4  0.753154           0.372240     0.569787        0.429961   0.123374  "
      ]
     },
     "execution_count": 8,
     "metadata": {},
     "output_type": "execute_result"
    }
   ],
   "source": [
    "from sklearn import preprocessing\n",
    "x = df[xfeatures]\n",
    "x=x.drop(columns=['parent_protein_id','protein_seq','peptide_seq'])\n",
    "scaler = preprocessing.MinMaxScaler()\n",
    "names = x.columns\n",
    "\n",
    "x_norm = scaler.fit_transform(x)\n",
    "y = df['target']\n",
    "scaled_x = pd.DataFrame(x_norm,columns=x.columns)\n",
    "scaled_x.head()\n",
    "\n"
   ]
  },
  {
   "cell_type": "markdown",
   "metadata": {},
   "source": [
    "# We didn't know what the distribution of the data features looked like, so this was optimal for us to use normalization, that way there wouldn't be skews in distribution that would affect  training our models"
   ]
  },
  {
   "cell_type": "code",
   "execution_count": 9,
   "metadata": {},
   "outputs": [
    {
     "data": {
      "text/plain": [
       "array([[0.05198181, 0.05162338, 0.47628458, ..., 0.5666512 , 0.56429767,\n",
       "        0.26462739],\n",
       "       [0.08122157, 0.08084416, 0.23320158, ..., 0.35925752, 0.59731663,\n",
       "        0.14855557],\n",
       "       [0.04678363, 0.04642857, 0.31422925, ..., 0.50362319, 0.88022531,\n",
       "        0.1703251 ],\n",
       "       ...,\n",
       "       [0.06107862, 0.06396104, 0.28359684, ..., 0.3935083 , 0.39221332,\n",
       "        0.31479495],\n",
       "       [0.48018194, 0.48279221, 0.52865613, ..., 0.2432752 , 0.40150286,\n",
       "        0.18271874],\n",
       "       [0.53476283, 0.53733766, 0.4229249 , ..., 0.2432752 , 0.40150286,\n",
       "        0.18271874]])"
      ]
     },
     "execution_count": 9,
     "metadata": {},
     "output_type": "execute_result"
    }
   ],
   "source": [
    "x_norm[::]"
   ]
  },
  {
   "cell_type": "markdown",
   "metadata": {},
   "source": [
    "# We were initially running into problems with training and testing times, so we decided to use ExtraTrees Classifier to help show us which features were most important.\n",
    "\n",
    "## We were hoping to see if we could drop more features from our data to speed things up or improve accuracies."
   ]
  },
  {
   "cell_type": "code",
   "execution_count": 10,
   "metadata": {},
   "outputs": [
    {
     "name": "stdout",
     "output_type": "stream",
     "text": [
      "[0.10425488 0.1055372  0.08578687 0.08422139 0.08068139 0.08530812\n",
      " 0.12198865 0.11771683 0.10848902 0.10601564]\n"
     ]
    },
    {
     "data": {
      "image/png": "[encoded data removed]",
      "text/plain": [
       "<Figure size 432x288 with 1 Axes>"
      ]
     },
     "metadata": {
      "needs_background": "light"
     },
     "output_type": "display_data"
    }
   ],
   "source": [
    "## using a different library because SelectKBest won't allow values to be negative\n",
    "\n",
    "from sklearn.ensemble import ExtraTreesClassifier\n",
    "import matplotlib.pyplot as plt\n",
    "\n",
    "##bestfeatures = SelectKBest(score_func=chi2, k=10)\n",
    "##fit = bestfeatures.fit(x,y)\n",
    "##dfscores = pd.DataFrame(fit.scores_)\n",
    "##dfcolumns = pd.DataFrame(x.columns)\n",
    "##featureScores = pd.concat([dfcolumns,dfscores], axis=1)\n",
    "##featureScores.columns = ['Specs','Scores']\n",
    "#print(featureScores.nlargest(10,'Score'))\n",
    "\n",
    "model = ExtraTreesClassifier(random_state=0)\n",
    "model.fit(x_norm,y)\n",
    "print(model.feature_importances_)\n",
    "\n",
    "feat_importances = pd.Series(model.feature_importances_,index=x.columns)\n",
    "\n",
    "feat_importances.nlargest(10).plot(kind='barh')\n",
    "plt.show()"
   ]
  },
  {
   "cell_type": "markdown",
   "metadata": {},
   "source": [
    "# It turned out that all the features were around the same importance we experimented with dropping the last four to see if it affected anything.\n",
    "\n",
    "# Ultimately nothing really changed so we just ended keeping the features as is\n",
    "\n",
    "# The next step after this was to actually inspect the feature distributions and see if any were being skewed"
   ]
  },
  {
   "cell_type": "code",
   "execution_count": 11,
   "metadata": {},
   "outputs": [
    {
     "data": {
      "image/png": "[encoded data removed]",
      "text/plain": [
       "<Figure size 1080x1080 with 12 Axes>"
      ]
     },
     "metadata": {
      "needs_background": "light"
     },
     "output_type": "display_data"
    }
   ],
   "source": [
    "scaled_x.hist(figsize=(15,15))\n",
    "plt.show()"
   ]
  },
  {
   "cell_type": "markdown",
   "metadata": {},
   "source": [
    "# From inspections of the features it showed us that there are some features that are skewed so we would run log transformation on them to see if will give a bell distribution.\n",
    "\n"
   ]
  },
  {
   "cell_type": "code",
   "execution_count": 12,
   "metadata": {},
   "outputs": [],
   "source": [
    "skews = ['start_position','end_position','emini']\n",
    "for x in skews:\n",
    "    scaled_x[x] = np.log(scaled_x[x]+1)"
   ]
  },
  {
   "cell_type": "markdown",
   "metadata": {},
   "source": [
    "# In the end it didn't change anything so we just stuck to the data we had because we were at a loss on what else to do to help change the data."
   ]
  },
  {
   "cell_type": "code",
   "execution_count": 13,
   "metadata": {},
   "outputs": [
    {
     "data": {
      "image/png": "[encoded data removed]",
      "text/plain": [
       "<Figure size 1080x1080 with 12 Axes>"
      ]
     },
     "metadata": {
      "needs_background": "light"
     },
     "output_type": "display_data"
    }
   ],
   "source": [
    "scaled_x.hist(figsize=(15,15))\n",
    "plt.show()"
   ]
  },
  {
   "cell_type": "code",
   "execution_count": null,
   "metadata": {},
   "outputs": [],
   "source": []
  },
  {
   "cell_type": "markdown",
   "metadata": {},
   "source": [
    "# Spliting the data"
   ]
  },
  {
   "cell_type": "code",
   "execution_count": 14,
   "metadata": {},
   "outputs": [],
   "source": [
    "X_train, X_test,Y_train, Y_test = train_test_split(x_norm, y, test_size=0.3, random_state=6)"
   ]
  },
  {
   "cell_type": "code",
   "execution_count": 15,
   "metadata": {},
   "outputs": [
    {
     "name": "stdout",
     "output_type": "stream",
     "text": [
      "0.798239518183924\n"
     ]
    }
   ],
   "source": [
    "knn=KNeighborsClassifier(n_neighbors=5)\n",
    "knn.fit(X_train, Y_train)\n",
    "Y_predict = (knn.predict(X_test))\n",
    "y_pred    = Y_predict\n",
    "y_actual  = Y_test\n",
    "score = accuracy_score(y_actual, y_pred)\n",
    "print(score)"
   ]
  },
  {
   "cell_type": "markdown",
   "metadata": {},
   "source": [
    "# Linear Regression"
   ]
  },
  {
   "cell_type": "code",
   "execution_count": 20,
   "metadata": {},
   "outputs": [
    {
     "name": "stdout",
     "output_type": "stream",
     "text": [
      "0.11536019865757674\n",
      "[-18.03970857  17.57284006   0.38172009   0.56876441  -0.13533403\n",
      "  -0.26310295  -0.28219627   0.03633797   0.41108731   0.29516608]\n"
     ]
    }
   ],
   "source": [
    "from sklearn.linear_model import LinearRegression\n",
    "\n",
    "# In the following line, \"my_LinReg\" is instantiated as an \"object\" of LinearRegression \"class\"\n",
    "my_LinReg = LinearRegression()\n",
    "\n",
    "# Fitting the model to the training dataset\n",
    "my_LinReg.fit(X_train, Y_train)\n",
    "\n",
    "# Printing Theta0 using attribute \"intercept_\":\n",
    "print(my_LinReg.intercept_)\n",
    "\n",
    "# Printing [Theta1, Theta2, Theta3] using attribute \"coef_\":\n",
    "print(my_LinReg.coef_)"
   ]
  },
  {
   "cell_type": "code",
   "execution_count": 24,
   "metadata": {},
   "outputs": [
    {
     "name": "stdout",
     "output_type": "stream",
     "text": [
      "[0.38518857 0.22813797 0.27104623 ... 0.29154873 0.21665094 0.35909595]\n",
      "Linear Regression accuracy: 5.730285963049264\n",
      "0.4347505524884967\n",
      "\n",
      "Using Cross Validation with 10 shuffles to confirm RMSE result\n",
      "-----------------------------------------------------------------\n",
      "[-0.23932686 -0.16287488 -0.14178921 -0.15455129 -0.18064301 -0.28053629\n",
      " -0.31885209 -0.15868735 -0.17076618 -0.21663866]\n",
      "\n",
      "The Average RMSE Result from 10-fold Cross Validation \n",
      "-----------------------------------------------------------------\n",
      "RMSE Average: 0.44588541265774556\n"
     ]
    }
   ],
   "source": [
    "predict_price = my_LinReg.predict(X_test)\n",
    "\n",
    "print(predict_price)\n",
    "\n",
    "score_linreg = my_LinReg.score(X_test,Y_test)\n",
    "print(\"Linear Regression accuracy:\",score_linreg*100)\n",
    "\n",
    "\n",
    "# NOT SURE IF NEEDED\n",
    "# Calculating \"Mean Square Error\" (MSE):\n",
    "mse = metrics.mean_squared_error(Y_test, predict_price)\n",
    "\n",
    "# Using numpy sqrt function to take the square root and calculate \"Root Mean Square Error\" (RMSE)\n",
    "rmse = np.sqrt(mse)\n",
    "\n",
    "print(rmse)\n",
    "\n",
    "#using a cross validation with 10 fold to confirm the accuracy of the RMSE\n",
    "my_linreg = LinearRegression()\n",
    "mse_list = cross_val_score(my_linreg,x_norm,y,cv=10,scoring='neg_mean_squared_error')\n",
    "print(\"\\nUsing Cross Validation with 10 shuffles to confirm RMSE result\")\n",
    "print(\"-----------------------------------------------------------------\")\n",
    "print(mse_list)\n",
    "\n",
    "pos_mse = -mse_list\n",
    "rmse_list = np.sqrt(pos_mse)\n",
    "\n",
    "print(\"\\nThe Average RMSE Result from 10-fold Cross Validation \")\n",
    "print(\"-----------------------------------------------------------------\")\n",
    "print(\"RMSE Average: \" + str(rmse_list.mean()))"
   ]
  },
  {
   "cell_type": "markdown",
   "metadata": {},
   "source": [
    "# Random Forest Regressor"
   ]
  },
  {
   "cell_type": "code",
   "execution_count": 18,
   "metadata": {},
   "outputs": [
    {
     "name": "stdout",
     "output_type": "stream",
     "text": [
      "[0.73 0.31 0.04 ... 0.14 0.57 0.18]\n",
      "RMSE Average:  0.3176745114185327\n"
     ]
    }
   ],
   "source": [
    "from sklearn.ensemble import RandomForestRegressor\n",
    "\n",
    "# \"my_randforest\" is instantiated as an \"object\" of RandomForestRegressor \"class\". \n",
    "my_randforest = RandomForestRegressor()\n",
    "\n",
    "# We can use the method \"fit\" of the objects \"my_randforest\" along with training dataset and labels to train the model.\n",
    "my_randforest.fit(X_train,Y_train)\n",
    "\n",
    "# Testing on the testing set:\n",
    "y_predict_rfr = my_randforest.predict(X_test)\n",
    "\n",
    "print(y_predict_rfr)\n",
    "\n",
    "# Calculating \"Mean Square Error\" (MSE):\n",
    "mse_rfr= metrics.mean_squared_error(Y_test,y_predict_rfr)\n",
    "\n",
    "# Using numpy sqrt function to take the square root and calculate \"Root Mean Square Error\" (RMSE)\n",
    "rmse_rfr = np.sqrt(mse_rfr)\n",
    "\n",
    "print(\"RMSE Average: \",rmse_rfr)"
   ]
  },
  {
   "cell_type": "code",
   "execution_count": 19,
   "metadata": {},
   "outputs": [
    {
     "name": "stdout",
     "output_type": "stream",
     "text": [
      "RMSE Average:  0.5651315763891824\n"
     ]
    }
   ],
   "source": [
    "\n",
    "# Applying 10-fold cross validation with \"Random Forest Regressor\":\n",
    "my_randforest = RandomForestRegressor()\n",
    "mse_list_rfr = cross_val_score(my_randforest, x_norm, y, cv=10, scoring='neg_mean_squared_error')\n",
    "#print(mse_list_rfr)\n",
    "\n",
    "# in order to calculate root mean square error (rmse), we have to make them positive!\n",
    "mse_list_positive_rfr = -mse_list_rfr\n",
    "\n",
    "# using numpy sqrt function to calculate rmse:\n",
    "rmse_list_rfr = np.sqrt(mse_list_positive_rfr )\n",
    "#print(rmse_list_rfr)\n",
    "\n",
    "# calculate the average RMSE as final result of cross validation:\n",
    "print(\"RMSE Average: \",rmse_list_rfr.mean())"
   ]
  },
  {
   "cell_type": "markdown",
   "metadata": {},
   "source": [
    "# Decision tree classifier"
   ]
  },
  {
   "cell_type": "code",
   "execution_count": 20,
   "metadata": {},
   "outputs": [
    {
     "name": "stdout",
     "output_type": "stream",
     "text": [
      "[1 0 0 ... 0 1 0]\n",
      "Deicision Tree Accuracy:  0.8086634236738476\n"
     ]
    }
   ],
   "source": [
    "from sklearn.tree import DecisionTreeClassifier\n",
    "my_DecisionTree = DecisionTreeClassifier(random_state=4)\n",
    "my_DecisionTree.fit(X_train,Y_train)\n",
    "y_predict_dt = my_DecisionTree.predict(X_test)\n",
    "print(y_predict_dt)\n",
    "dt_score = accuracy_score(Y_test,y_predict_dt)\n",
    "print(\"Deicision Tree Accuracy: \", dt_score)\n",
    "\n",
    "\n"
   ]
  },
  {
   "cell_type": "code",
   "execution_count": null,
   "metadata": {},
   "outputs": [],
   "source": []
  },
  {
   "cell_type": "code",
   "execution_count": 21,
   "metadata": {},
   "outputs": [],
   "source": [
    "y_predict_dt_prob = my_DecisionTree.predict_proba(X_test)\n",
    "dt_fpr, dt_tpr, dt_thresholds = roc_curve(Y_test,y_predict_dt_prob[:,1],pos_label=1)\n",
    "dt_auc = auc(dt_fpr,dt_tpr)"
   ]
  },
  {
   "cell_type": "markdown",
   "metadata": {},
   "source": [
    "# AdaBoost Classifier"
   ]
  },
  {
   "cell_type": "code",
   "execution_count": 22,
   "metadata": {},
   "outputs": [
    {
     "name": "stdout",
     "output_type": "stream",
     "text": [
      "AdaBoost Classifier Accuracy:  0.7523743340282604\n"
     ]
    }
   ],
   "source": [
    "from sklearn.ensemble import AdaBoostClassifier\n",
    "my_ada = AdaBoostClassifier(n_estimators = 29, random_state=4)\n",
    "my_ada.fit(X_train,Y_train)\n",
    "y_predict_ada = my_ada.predict(X_test)\n",
    "ada_score = accuracy_score(Y_test,y_predict_ada)\n",
    "print(\"AdaBoost Classifier Accuracy: \", ada_score)"
   ]
  },
  {
   "cell_type": "code",
   "execution_count": 23,
   "metadata": {},
   "outputs": [
    {
     "name": "stdout",
     "output_type": "stream",
     "text": [
      "AUC:0.7883824756554286\n"
     ]
    }
   ],
   "source": [
    "y_predict_ada_prob =my_ada.predict_proba(X_test)\n",
    "ada_fpr, ada_tpr, ada_thresholds = roc_curve(Y_test,y_predict_ada_prob[:,1],pos_label=1)\n",
    "ada_auc = auc(ada_fpr,ada_tpr)\n",
    "print(\"AUC:\" + str(ada_auc))"
   ]
  },
  {
   "cell_type": "markdown",
   "metadata": {},
   "source": [
    "# ROC Curve graph plot"
   ]
  },
  {
   "cell_type": "code",
   "execution_count": 24,
   "metadata": {},
   "outputs": [
    {
     "data": {
      "image/png": "[encoded data removed]",
      "text/plain": [
       "<Figure size 432x288 with 1 Axes>"
      ]
     },
     "metadata": {
      "needs_background": "light"
     },
     "output_type": "display_data"
    }
   ],
   "source": [
    "%matplotlib inline\n",
    "\n",
    "plt.figure()\n",
    "\n",
    "#Roc Curve for decision tree classifier\n",
    "plt.plot(dt_fpr,dt_tpr,color='green',lw=2,label='Decision Tree (area = %0.2f)' % dt_auc)\n",
    "\n",
    "#Roc Curver for adaboost Classifier\n",
    "plt.plot(ada_fpr,ada_tpr,color='red',lw=2,label='AdaBoost Classifier (area = %0.2f)' % ada_auc)\n",
    "\n",
    "#Roc Curves for all other classifiers ...\n",
    "\n",
    "\n",
    "\n",
    "#Random Guess Line \n",
    "plt.plot([0,1],[0,1], color='blue',lw=1,linestyle='--')\n",
    "\n",
    "#defining the range of X-axis and Y-axis\n",
    "plt.xlim([-0.005,1.005])\n",
    "plt.ylim([0.0,1.01])\n",
    "\n",
    "\n",
    "#Labels, title, legend\n",
    "plt.xlabel('False positive Rate')\n",
    "plt.ylabel('True Positive Rate')\n",
    "plt.title('Covid Predictor')\n",
    "plt.legend(loc=\"lower right\")\n",
    "\n",
    "plt.show()"
   ]
  },
  {
   "cell_type": "code",
   "execution_count": null,
   "metadata": {},
   "outputs": [],
   "source": []
  }
 ],
 "metadata": {
  "kernelspec": {
   "display_name": "Python 3",
   "language": "python",
   "name": "python3"
  },
  "language_info": {
   "codemirror_mode": {
    "name": "ipython",
    "version": 3
   },
   "file_extension": ".py",
   "mimetype": "text/x-python",
   "name": "python",
   "nbconvert_exporter": "python",
   "pygments_lexer": "ipython3",
   "version": "3.8.5"
  }
 },
 "nbformat": 4,
 "nbformat_minor": 4
}
